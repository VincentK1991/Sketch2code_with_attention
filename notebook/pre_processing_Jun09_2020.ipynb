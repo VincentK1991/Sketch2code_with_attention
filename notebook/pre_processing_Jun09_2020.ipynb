{
  "nbformat": 4,
  "nbformat_minor": 0,
  "metadata": {
    "colab": {
      "name": "pre_processing_May23_2020.ipynb",
      "provenance": [],
      "mount_file_id": "1YPIjvzHWDpmXLAepmUTCvIllgneqqiJy",
      "authorship_tag": "ABX9TyNlta4v0HRU2zbq6/p6O/O2",
      "include_colab_link": true
    },
    "kernelspec": {
      "name": "python3",
      "display_name": "Python 3"
    }
  },
  "cells": [
    {
      "cell_type": "markdown",
      "metadata": {
        "id": "view-in-github",
        "colab_type": "text"
      },
      "source": [
        "<a href=\"https://colab.research.google.com/github/VincentK1991/Sketch2code_with_attention/blob/master/notebook/pre_processing_Jun09_2020.ipynb\" target=\"_parent\"><img src=\"https://colab.research.google.com/assets/colab-badge.svg\" alt=\"Open In Colab\"/></a>"
      ]
    },
    {
      "cell_type": "markdown",
      "metadata": {
        "id": "rDKvSsJ33Ibv",
        "colab_type": "text"
      },
      "source": [
        "# Data pre-processing\n",
        "\n",
        "The data has 2 components: the sketch image, and the code associated with the HTML for that sketch. Notice here that the code is a .gui meaning it is not written in HTML. Instead we will compile it into HTML using the author compiler codes. The benefit of using the .gui code is that it is concise, and it will be much easier to train model on.\n",
        "\n",
        "This notebook contains pre-processing steps which consist of\n",
        "1. downloading the data, unzip, etc.\n",
        "2. tokenize the text (code) data, add special tokens, and do the padding.\n",
        "3. pre-processing the images\n",
        "4. build the training/validation tensor dataset"
      ]
    },
    {
      "cell_type": "markdown",
      "metadata": {
        "id": "tIEXRBR1qrmn",
        "colab_type": "text"
      },
      "source": [
        "# 1. download data\n",
        "\n",
        "- download data\n",
        "- unzip\n",
        "- create a dataframe for the file names"
      ]
    },
    {
      "cell_type": "code",
      "metadata": {
        "id": "CM3CLmUJq5ZS",
        "colab_type": "code",
        "colab": {}
      },
      "source": [
        "import numpy as np\n",
        "import pandas as pd\n",
        "import glob\n",
        "import timeit\n",
        "import json"
      ],
      "execution_count": 0,
      "outputs": []
    },
    {
      "cell_type": "code",
      "metadata": {
        "id": "kkAzoR7LQDwj",
        "colab_type": "code",
        "colab": {}
      },
      "source": [
        "!mkdir data"
      ],
      "execution_count": 0,
      "outputs": []
    },
    {
      "cell_type": "code",
      "metadata": {
        "id": "gA0kl24MQIr2",
        "colab_type": "code",
        "outputId": "817a05a8-cc6e-4ce6-9f3c-76c758502413",
        "colab": {
          "base_uri": "https://localhost:8080/"
        }
      },
      "source": [
        "!wget https://s3-us-west-2.amazonaws.com/sketch2code/data.zip -O data/all_data.zip"
      ],
      "execution_count": 0,
      "outputs": [
        {
          "output_type": "stream",
          "text": [
            "--2020-05-23 06:40:07--  https://s3-us-west-2.amazonaws.com/sketch2code/data.zip\n",
            "Resolving s3-us-west-2.amazonaws.com (s3-us-west-2.amazonaws.com)... 52.218.220.32\n",
            "Connecting to s3-us-west-2.amazonaws.com (s3-us-west-2.amazonaws.com)|52.218.220.32|:443... connected.\n",
            "HTTP request sent, awaiting response... 200 OK\n",
            "Length: 357684290 (341M) [application/zip]\n",
            "Saving to: ‘data/all_data.zip’\n",
            "\n",
            "data/all_data.zip   100%[===================>] 341.11M  19.1MB/s    in 20s     \n",
            "\n",
            "2020-05-23 06:40:28 (16.7 MB/s) - ‘data/all_data.zip’ saved [357684290/357684290]\n",
            "\n"
          ],
          "name": "stdout"
        }
      ]
    },
    {
      "cell_type": "code",
      "metadata": {
        "id": "lQijjUZzQsjg",
        "colab_type": "code",
        "colab": {}
      },
      "source": [
        "!unzip data/all_data.zip -d data/all_data"
      ],
      "execution_count": 0,
      "outputs": []
    },
    {
      "cell_type": "code",
      "metadata": {
        "id": "YR-C1VrQrtK4",
        "colab_type": "code",
        "colab": {}
      },
      "source": [
        "list_png = glob.glob(\"data/*.png\")"
      ],
      "execution_count": 0,
      "outputs": []
    },
    {
      "cell_type": "code",
      "metadata": {
        "id": "gN3gHJB7r_jL",
        "colab_type": "code",
        "colab": {}
      },
      "source": [
        "list_png = list(np.sort(list_png))"
      ],
      "execution_count": 0,
      "outputs": []
    },
    {
      "cell_type": "code",
      "metadata": {
        "id": "hm-luJhMs4rp",
        "colab_type": "code",
        "colab": {}
      },
      "source": [
        "list_new_gui = [i.replace('png','gui') for i in list_png]"
      ],
      "execution_count": 0,
      "outputs": []
    },
    {
      "cell_type": "code",
      "metadata": {
        "id": "UxtGb_XhsdUL",
        "colab_type": "code",
        "colab": {}
      },
      "source": [
        "df = pd.DataFrame({'gui':list_new_gui,'png':list_png})"
      ],
      "execution_count": 0,
      "outputs": []
    },
    {
      "cell_type": "code",
      "metadata": {
        "id": "HRfokGIgsyTm",
        "colab_type": "code",
        "outputId": "ee9ec68a-1a3e-40ea-84f7-5b2344b98474",
        "colab": {
          "base_uri": "https://localhost:8080/",
          "height": 196
        }
      },
      "source": [
        "df.tail(5)"
      ],
      "execution_count": 0,
      "outputs": [
        {
          "output_type": "execute_result",
          "data": {
            "text/html": [
              "<div>\n",
              "<style scoped>\n",
              "    .dataframe tbody tr th:only-of-type {\n",
              "        vertical-align: middle;\n",
              "    }\n",
              "\n",
              "    .dataframe tbody tr th {\n",
              "        vertical-align: top;\n",
              "    }\n",
              "\n",
              "    .dataframe thead th {\n",
              "        text-align: right;\n",
              "    }\n",
              "</style>\n",
              "<table border=\"1\" class=\"dataframe\">\n",
              "  <thead>\n",
              "    <tr style=\"text-align: right;\">\n",
              "      <th></th>\n",
              "      <th>gui</th>\n",
              "      <th>png</th>\n",
              "    </tr>\n",
              "  </thead>\n",
              "  <tbody>\n",
              "    <tr>\n",
              "      <th>1694</th>\n",
              "      <td>data/FDF12CF5-A344-4573-A239-78AE47DBEE78.gui</td>\n",
              "      <td>data/FDF12CF5-A344-4573-A239-78AE47DBEE78.png</td>\n",
              "    </tr>\n",
              "    <tr>\n",
              "      <th>1695</th>\n",
              "      <td>data/FDF4126C-C97E-43F0-9624-2AFC2D6BAD69.gui</td>\n",
              "      <td>data/FDF4126C-C97E-43F0-9624-2AFC2D6BAD69.png</td>\n",
              "    </tr>\n",
              "    <tr>\n",
              "      <th>1696</th>\n",
              "      <td>data/FE835309-7DF4-4141-B6D1-F0141AC1DBFD.gui</td>\n",
              "      <td>data/FE835309-7DF4-4141-B6D1-F0141AC1DBFD.png</td>\n",
              "    </tr>\n",
              "    <tr>\n",
              "      <th>1697</th>\n",
              "      <td>data/FECC1897-8B91-426B-96F3-29DA91E30721.gui</td>\n",
              "      <td>data/FECC1897-8B91-426B-96F3-29DA91E30721.png</td>\n",
              "    </tr>\n",
              "    <tr>\n",
              "      <th>1698</th>\n",
              "      <td>data/FEF248A4-868E-4A6C-94D6-9B38A67974F0.gui</td>\n",
              "      <td>data/FEF248A4-868E-4A6C-94D6-9B38A67974F0.png</td>\n",
              "    </tr>\n",
              "  </tbody>\n",
              "</table>\n",
              "</div>"
            ],
            "text/plain": [
              "                                                gui                                            png\n",
              "1694  data/FDF12CF5-A344-4573-A239-78AE47DBEE78.gui  data/FDF12CF5-A344-4573-A239-78AE47DBEE78.png\n",
              "1695  data/FDF4126C-C97E-43F0-9624-2AFC2D6BAD69.gui  data/FDF4126C-C97E-43F0-9624-2AFC2D6BAD69.png\n",
              "1696  data/FE835309-7DF4-4141-B6D1-F0141AC1DBFD.gui  data/FE835309-7DF4-4141-B6D1-F0141AC1DBFD.png\n",
              "1697  data/FECC1897-8B91-426B-96F3-29DA91E30721.gui  data/FECC1897-8B91-426B-96F3-29DA91E30721.png\n",
              "1698  data/FEF248A4-868E-4A6C-94D6-9B38A67974F0.gui  data/FEF248A4-868E-4A6C-94D6-9B38A67974F0.png"
            ]
          },
          "metadata": {
            "tags": []
          },
          "execution_count": 35
        }
      ]
    },
    {
      "cell_type": "code",
      "metadata": {
        "id": "7fMIMAfxsVWS",
        "colab_type": "code",
        "colab": {}
      },
      "source": [
        "df.to_csv('all_data_May23_2020.csv')"
      ],
      "execution_count": 0,
      "outputs": []
    },
    {
      "cell_type": "markdown",
      "metadata": {
        "id": "dV8VW30BqzP-",
        "colab_type": "text"
      },
      "source": [
        "# 2. Tokenization\n",
        "\n",
        "- decide if we want to tokenize by \"line\", or by individual \"word\".\n",
        "  - In the end, I found that there are only 11 distinct lines. So that makes tokenizing by line is easier. will help us at the training step because we will have easier time at the embedding step. Doing it by line also make the sequence shorter; therefore, easier to decode. "
      ]
    },
    {
      "cell_type": "markdown",
      "metadata": {
        "id": "WaQyZol7ycWs",
        "colab_type": "text"
      },
      "source": [
        "## should we tokenize by line or by word, or by characters?\n",
        "\n",
        "first we need to find out how many unique lines there are.\n",
        "\n",
        "Then check how many unique words there are."
      ]
    },
    {
      "cell_type": "code",
      "metadata": {
        "id": "b-iFhz3rxaRm",
        "colab_type": "code",
        "outputId": "eeb65132-3c9f-4580-84db-97d8d290592a",
        "colab": {
          "base_uri": "https://localhost:8080/",
          "height": 301
        }
      },
      "source": [
        "list_all_line = []\n",
        "start = timeit.default_timer()\n",
        "for i in range(1699):\n",
        "  with open(df['gui'][i], 'r') as file:\n",
        "    text = file.read().splitlines() \n",
        "    file.close()\n",
        "  for j in text:\n",
        "    list_all_line.append(j)\n",
        "  if i%100 == 0:\n",
        "    stop = timeit.default_timer()\n",
        "    print('iteration ',i,' takes ',stop - start,' sec')\n",
        "    start = timeit.default_timer()"
      ],
      "execution_count": 0,
      "outputs": [
        {
          "output_type": "stream",
          "text": [
            "iteration  0  takes  0.0024069129999588768  sec\n",
            "iteration  100  takes  0.1427246240000386  sec\n",
            "iteration  200  takes  0.13254155399999945  sec\n",
            "iteration  300  takes  0.130525019000288  sec\n",
            "iteration  400  takes  0.1343864330001452  sec\n",
            "iteration  500  takes  7.144379989999834  sec\n",
            "iteration  600  takes  54.72292397800038  sec\n",
            "iteration  700  takes  52.04365296300011  sec\n",
            "iteration  800  takes  52.46960147999971  sec\n",
            "iteration  900  takes  49.83302759499975  sec\n",
            "iteration  1000  takes  51.7064525400001  sec\n",
            "iteration  1100  takes  52.501946879000116  sec\n",
            "iteration  1200  takes  53.763798638000026  sec\n",
            "iteration  1300  takes  52.37649783899997  sec\n",
            "iteration  1400  takes  52.37295009399986  sec\n",
            "iteration  1500  takes  52.73786095200012  sec\n",
            "iteration  1600  takes  50.891610609000054  sec\n"
          ],
          "name": "stdout"
        }
      ]
    },
    {
      "cell_type": "code",
      "metadata": {
        "id": "zVj0JDIkxl9k",
        "colab_type": "code",
        "outputId": "2b304e0f-1033-44aa-b0d2-0b781424556e",
        "colab": {
          "base_uri": "https://localhost:8080/",
          "height": 33
        }
      },
      "source": [
        "len(np.unique(list_all_line))"
      ],
      "execution_count": 0,
      "outputs": [
        {
          "output_type": "execute_result",
          "data": {
            "text/plain": [
              "11"
            ]
          },
          "metadata": {
            "tags": []
          },
          "execution_count": 98
        }
      ]
    },
    {
      "cell_type": "code",
      "metadata": {
        "id": "_Wqmndwg3_pz",
        "colab_type": "code",
        "outputId": "482c3d93-8c3b-4403-9a91-8b591b019a13",
        "colab": {
          "base_uri": "https://localhost:8080/",
          "height": 117
        }
      },
      "source": [
        "np.unique(list_all_line)"
      ],
      "execution_count": 0,
      "outputs": [
        {
          "output_type": "execute_result",
          "data": {
            "text/plain": [
              "array(['btn-inactive, btn-inactive',\n",
              "       'btn-inactive, btn-inactive, btn-inactive',\n",
              "       'btn-inactive, btn-inactive, btn-inactive, btn-inactive',\n",
              "       'btn-inactive, btn-inactive, btn-inactive, btn-inactive, btn-inactive',\n",
              "       'double {', 'header {', 'quadruple {', 'row {', 'single {',\n",
              "       'small-title, text, btn-orange', '}'], dtype='<U68')"
            ]
          },
          "metadata": {
            "tags": []
          },
          "execution_count": 100
        }
      ]
    },
    {
      "cell_type": "code",
      "metadata": {
        "id": "cg_14GkQ4FEi",
        "colab_type": "code",
        "outputId": "5a222a21-48ab-4fb5-e567-5b1483ca7cbc",
        "colab": {
          "base_uri": "https://localhost:8080/",
          "height": 184
        }
      },
      "source": [
        "list_all_line[:10]"
      ],
      "execution_count": 0,
      "outputs": [
        {
          "output_type": "execute_result",
          "data": {
            "text/plain": [
              "['header {',\n",
              " 'btn-inactive, btn-inactive, btn-inactive, btn-inactive',\n",
              " '}',\n",
              " 'row {',\n",
              " 'single {',\n",
              " 'small-title, text, btn-orange',\n",
              " '}',\n",
              " '}',\n",
              " 'row {',\n",
              " 'double {']"
            ]
          },
          "metadata": {
            "tags": []
          },
          "execution_count": 101
        }
      ]
    },
    {
      "cell_type": "code",
      "metadata": {
        "id": "CcbeGqgP7HnY",
        "colab_type": "code",
        "colab": {}
      },
      "source": [
        "import re, string"
      ],
      "execution_count": 0,
      "outputs": []
    },
    {
      "cell_type": "code",
      "metadata": {
        "id": "ujEV1vEg8xga",
        "colab_type": "code",
        "colab": {}
      },
      "source": [
        "import regex\n",
        "PUNCT_RE = regex.compile(r'(\\p{Punctuation})')   "
      ],
      "execution_count": 0,
      "outputs": []
    },
    {
      "cell_type": "code",
      "metadata": {
        "id": "p_XxXJ9r7Wyd",
        "colab_type": "code",
        "outputId": "05f7940d-c6ea-4ccb-b63c-e74eceb5b909",
        "colab": {
          "base_uri": "https://localhost:8080/",
          "height": 184
        }
      },
      "source": [
        "list_word = []\n",
        "start = timeit.default_timer()\n",
        "for i in range(len(list_all_line)):\n",
        "  temp = PUNCT_RE.split(list_all_line[i])\n",
        "  for j in np.unique(temp):\n",
        "    list_word.append(j)\n",
        "  if i%5000 == 0:\n",
        "    stop = timeit.default_timer()\n",
        "    print('iteration ',i,' takes ',stop - start,' sec')\n",
        "    start = timeit.default_timer()"
      ],
      "execution_count": 0,
      "outputs": [
        {
          "output_type": "stream",
          "text": [
            "iteration  0  takes  0.00046440200003416976  sec\n",
            "iteration  5000  takes  0.08565596499920503  sec\n",
            "iteration  10000  takes  0.0835987260006732  sec\n",
            "iteration  15000  takes  0.0796231300000727  sec\n",
            "iteration  20000  takes  0.07591186700028629  sec\n",
            "iteration  25000  takes  0.07473752499936381  sec\n",
            "iteration  30000  takes  0.07823516600001312  sec\n",
            "iteration  35000  takes  0.07514918200013199  sec\n",
            "iteration  40000  takes  0.07696402600049623  sec\n",
            "iteration  45000  takes  0.07841329100028815  sec\n"
          ],
          "name": "stdout"
        }
      ]
    },
    {
      "cell_type": "code",
      "metadata": {
        "id": "VE7y9ovs89zF",
        "colab_type": "code",
        "outputId": "29ced49c-e17e-4115-9afa-ebb333a6c65f",
        "colab": {
          "base_uri": "https://localhost:8080/",
          "height": 34
        }
      },
      "source": [
        "len(np.unique(list_word))"
      ],
      "execution_count": 0,
      "outputs": [
        {
          "output_type": "execute_result",
          "data": {
            "text/plain": [
              "17"
            ]
          },
          "metadata": {
            "tags": []
          },
          "execution_count": 118
        }
      ]
    },
    {
      "cell_type": "code",
      "metadata": {
        "id": "T_N5YaVM8AoQ",
        "colab_type": "code",
        "outputId": "0e017fd5-b43e-4d50-d86d-712429effc8b",
        "colab": {
          "base_uri": "https://localhost:8080/",
          "height": 67
        }
      },
      "source": [
        "np.unique(list_word)"
      ],
      "execution_count": 0,
      "outputs": [
        {
          "output_type": "execute_result",
          "data": {
            "text/plain": [
              "array(['', ' btn', ' text', ',', '-', 'btn', 'double ', 'header ',\n",
              "       'inactive', 'orange', 'quadruple ', 'row ', 'single ', 'small',\n",
              "       'title', '{', '}'], dtype='<U10')"
            ]
          },
          "metadata": {
            "tags": []
          },
          "execution_count": 119
        }
      ]
    },
    {
      "cell_type": "code",
      "metadata": {
        "id": "mN0cVsXyHBc3",
        "colab_type": "code",
        "colab": {}
      },
      "source": [
        "# list_word_by_gui = []\n",
        "# start = timeit.default_timer()\n",
        "# for i in range(len(list_all_line)):\n",
        "#   temp = PUNCT_RE.split(list_all_line[i])"
      ],
      "execution_count": 0,
      "outputs": []
    },
    {
      "cell_type": "markdown",
      "metadata": {
        "id": "5wZwumYu0j2T",
        "colab_type": "text"
      },
      "source": [
        "we have 1699 samples\n",
        "\n",
        "\n",
        "number of total lines\n",
        "- 45973\n",
        "number of unique lines\n",
        "- 11\n",
        "\n",
        "```\n",
        "'header {',\n",
        " 'btn-inactive, btn-inactive, btn-inactive, btn-inactive',\n",
        " '}',\n",
        " 'row {',\n",
        " 'single {',\n",
        " 'small-title, text, btn-orange',\n",
        " '}',\n",
        " '}',\n",
        " 'row {',\n",
        " 'double {'\n",
        "```\n",
        "\n",
        "from this it seems like lines are the most appropriate unit of tokenization.\n",
        "\n"
      ]
    },
    {
      "cell_type": "code",
      "metadata": {
        "id": "BJ8YZ_6kFmXz",
        "colab_type": "code",
        "colab": {}
      },
      "source": [
        "line2idx = {}\n",
        "idx2line = {}\n",
        "for count,item in enumerate(np.unique(list_all_line)):\n",
        "  line2idx[item] = count\n",
        "  idx2line[count] = item\n",
        "\n",
        "word2idx = {}\n",
        "idx2word = {}\n",
        "for count,item in enumerate(np.unique(list_word)):\n",
        "  word2idx[item] = count\n",
        "  idx2word[count] = item"
      ],
      "execution_count": 0,
      "outputs": []
    },
    {
      "cell_type": "markdown",
      "metadata": {
        "id": "-ivyMh2W8-Oj",
        "colab_type": "text"
      },
      "source": [
        "## tokenize by line"
      ]
    },
    {
      "cell_type": "code",
      "metadata": {
        "id": "Hr1OVolUIJoi",
        "colab_type": "code",
        "outputId": "b6d6f8ca-0b74-4d69-a8be-49502e061061",
        "colab": {
          "base_uri": "https://localhost:8080/",
          "height": 172
        }
      },
      "source": [
        "list_tokenize_line = []\n",
        "start = timeit.default_timer()\n",
        "for i in range(1699):\n",
        "  with open(df['gui'][i], 'r') as file:\n",
        "    text = file.read().splitlines() \n",
        "    file.close()\n",
        "  temp_token_list = []\n",
        "  for j in text:\n",
        "    temp_token_list.append(line2idx[j])\n",
        "  list_tokenize_line.append(temp_token_list)\n",
        "\n",
        "  if i%200 == 0:\n",
        "    stop = timeit.default_timer()\n",
        "    print('iteration ',i,' takes ',stop - start,' sec')\n",
        "    start = timeit.default_timer()"
      ],
      "execution_count": 0,
      "outputs": [
        {
          "output_type": "stream",
          "text": [
            "iteration  0  takes  0.0024953600004664622  sec\n",
            "iteration  200  takes  0.22272874899863382  sec\n",
            "iteration  400  takes  0.23017073899973184  sec\n",
            "iteration  600  takes  0.23361632999876747  sec\n",
            "iteration  800  takes  0.24110647100133065  sec\n",
            "iteration  1000  takes  0.22023633800017706  sec\n",
            "iteration  1200  takes  0.21510441899954458  sec\n",
            "iteration  1400  takes  0.22861869700136594  sec\n",
            "iteration  1600  takes  0.22360828300043067  sec\n"
          ],
          "name": "stdout"
        }
      ]
    },
    {
      "cell_type": "markdown",
      "metadata": {
        "id": "ZC5VtvL396je",
        "colab_type": "text"
      },
      "source": [
        "## tokenize by words\n",
        "\n",
        "This is done as a back up. In the end, I didn't use this at all."
      ]
    },
    {
      "cell_type": "code",
      "metadata": {
        "id": "qCqtL6bT98Fx",
        "colab_type": "code",
        "outputId": "ae4a4f95-166f-472b-a6af-86ffb92080f1",
        "colab": {
          "base_uri": "https://localhost:8080/",
          "height": 167
        }
      },
      "source": [
        "list_tokenize_word = []\n",
        "start = timeit.default_timer()\n",
        "for i in range(1699):\n",
        "  with open(df['gui'][i], 'r') as file:\n",
        "    text = file.read().splitlines() \n",
        "    file.close()\n",
        "  str_text = ''.join(text)\n",
        "  temp = PUNCT_RE.split(str_text)\n",
        "  temp_token_list = []\n",
        "  for j in temp:\n",
        "    temp_token_list.append(word2idx[j])\n",
        "  list_tokenize_word.append(temp_token_list)\n",
        "\n",
        "  if i%200 == 0:\n",
        "    stop = timeit.default_timer()\n",
        "    print('iteration ',i,' takes ',stop - start,' sec')\n",
        "    start = timeit.default_timer()"
      ],
      "execution_count": 0,
      "outputs": [
        {
          "output_type": "stream",
          "text": [
            "iteration  0  takes  0.0023877829989942256  sec\n",
            "iteration  200  takes  0.24466182400101388  sec\n",
            "iteration  400  takes  0.23397278399897914  sec\n",
            "iteration  600  takes  0.24120449600013671  sec\n",
            "iteration  800  takes  0.24266838199946505  sec\n",
            "iteration  1000  takes  0.24835266699847125  sec\n",
            "iteration  1200  takes  0.23242362900055014  sec\n",
            "iteration  1400  takes  0.24015895199954684  sec\n",
            "iteration  1600  takes  0.24312809200091579  sec\n"
          ],
          "name": "stdout"
        }
      ]
    },
    {
      "cell_type": "code",
      "metadata": {
        "id": "Lp7C4HYIKwTQ",
        "colab_type": "code",
        "colab": {}
      },
      "source": [
        "df['tokenized_line'] = list_tokenize_line"
      ],
      "execution_count": 0,
      "outputs": []
    },
    {
      "cell_type": "code",
      "metadata": {
        "id": "TRlUfJmmMPjR",
        "colab_type": "code",
        "colab": {}
      },
      "source": [
        "df['tokenized_word'] = list_tokenize_word"
      ],
      "execution_count": 0,
      "outputs": []
    },
    {
      "cell_type": "code",
      "metadata": {
        "id": "FtDpGeeoMjJv",
        "colab_type": "code",
        "outputId": "0ad8bc60-1b23-410c-8cbe-c2a3e0bd75e7",
        "colab": {
          "base_uri": "https://localhost:8080/",
          "height": 280
        }
      },
      "source": [
        "df.tail(5)"
      ],
      "execution_count": 0,
      "outputs": [
        {
          "output_type": "execute_result",
          "data": {
            "text/html": [
              "<div>\n",
              "<style scoped>\n",
              "    .dataframe tbody tr th:only-of-type {\n",
              "        vertical-align: middle;\n",
              "    }\n",
              "\n",
              "    .dataframe tbody tr th {\n",
              "        vertical-align: top;\n",
              "    }\n",
              "\n",
              "    .dataframe thead th {\n",
              "        text-align: right;\n",
              "    }\n",
              "</style>\n",
              "<table border=\"1\" class=\"dataframe\">\n",
              "  <thead>\n",
              "    <tr style=\"text-align: right;\">\n",
              "      <th></th>\n",
              "      <th>gui</th>\n",
              "      <th>png</th>\n",
              "      <th>tokenized_line</th>\n",
              "      <th>tokenized_word</th>\n",
              "    </tr>\n",
              "  </thead>\n",
              "  <tbody>\n",
              "    <tr>\n",
              "      <th>1694</th>\n",
              "      <td>data/FDF12CF5-A344-4573-A239-78AE47DBEE78.gui</td>\n",
              "      <td>data/FDF12CF5-A344-4573-A239-78AE47DBEE78.png</td>\n",
              "      <td>[5, 2, 10, 7, 4, 9, 10, 4, 9, 10, 10, 7, 8, 9,...</td>\n",
              "      <td>[7, 15, 5, 4, 8, 3, 1, 4, 8, 3, 1, 4, 8, 3, 1,...</td>\n",
              "    </tr>\n",
              "    <tr>\n",
              "      <th>1695</th>\n",
              "      <td>data/FDF4126C-C97E-43F0-9624-2AFC2D6BAD69.gui</td>\n",
              "      <td>data/FDF4126C-C97E-43F0-9624-2AFC2D6BAD69.png</td>\n",
              "      <td>[5, 3, 10, 7, 8, 9, 10, 10, 7, 4, 9, 10, 4, 9,...</td>\n",
              "      <td>[7, 15, 5, 4, 8, 3, 1, 4, 8, 3, 1, 4, 8, 3, 1,...</td>\n",
              "    </tr>\n",
              "    <tr>\n",
              "      <th>1696</th>\n",
              "      <td>data/FE835309-7DF4-4141-B6D1-F0141AC1DBFD.gui</td>\n",
              "      <td>data/FE835309-7DF4-4141-B6D1-F0141AC1DBFD.png</td>\n",
              "      <td>[5, 1, 10, 7, 4, 9, 10, 4, 9, 10, 10, 7, 8, 9,...</td>\n",
              "      <td>[7, 15, 5, 4, 8, 3, 1, 4, 8, 3, 1, 4, 8, 16, 1...</td>\n",
              "    </tr>\n",
              "    <tr>\n",
              "      <th>1697</th>\n",
              "      <td>data/FECC1897-8B91-426B-96F3-29DA91E30721.gui</td>\n",
              "      <td>data/FECC1897-8B91-426B-96F3-29DA91E30721.png</td>\n",
              "      <td>[5, 1, 10, 7, 4, 9, 10, 4, 9, 10, 10, 7, 6, 9,...</td>\n",
              "      <td>[7, 15, 5, 4, 8, 3, 1, 4, 8, 3, 1, 4, 8, 16, 1...</td>\n",
              "    </tr>\n",
              "    <tr>\n",
              "      <th>1698</th>\n",
              "      <td>data/FEF248A4-868E-4A6C-94D6-9B38A67974F0.gui</td>\n",
              "      <td>data/FEF248A4-868E-4A6C-94D6-9B38A67974F0.png</td>\n",
              "      <td>[5, 2, 10, 7, 6, 9, 10, 6, 9, 10, 6, 9, 10, 6,...</td>\n",
              "      <td>[7, 15, 5, 4, 8, 3, 1, 4, 8, 3, 1, 4, 8, 3, 1,...</td>\n",
              "    </tr>\n",
              "  </tbody>\n",
              "</table>\n",
              "</div>"
            ],
            "text/plain": [
              "                                                gui  ...                                     tokenized_word\n",
              "1694  data/FDF12CF5-A344-4573-A239-78AE47DBEE78.gui  ...  [7, 15, 5, 4, 8, 3, 1, 4, 8, 3, 1, 4, 8, 3, 1,...\n",
              "1695  data/FDF4126C-C97E-43F0-9624-2AFC2D6BAD69.gui  ...  [7, 15, 5, 4, 8, 3, 1, 4, 8, 3, 1, 4, 8, 3, 1,...\n",
              "1696  data/FE835309-7DF4-4141-B6D1-F0141AC1DBFD.gui  ...  [7, 15, 5, 4, 8, 3, 1, 4, 8, 3, 1, 4, 8, 16, 1...\n",
              "1697  data/FECC1897-8B91-426B-96F3-29DA91E30721.gui  ...  [7, 15, 5, 4, 8, 3, 1, 4, 8, 3, 1, 4, 8, 16, 1...\n",
              "1698  data/FEF248A4-868E-4A6C-94D6-9B38A67974F0.gui  ...  [7, 15, 5, 4, 8, 3, 1, 4, 8, 3, 1, 4, 8, 3, 1,...\n",
              "\n",
              "[5 rows x 4 columns]"
            ]
          },
          "metadata": {
            "tags": []
          },
          "execution_count": 166
        }
      ]
    },
    {
      "cell_type": "code",
      "metadata": {
        "id": "HctK5RtKMkRV",
        "colab_type": "code",
        "colab": {}
      },
      "source": [
        "df.to_csv('all_tokenized_data_May23_2020.csv')"
      ],
      "execution_count": 0,
      "outputs": []
    },
    {
      "cell_type": "markdown",
      "metadata": {
        "id": "yeHYVNoQNeIE",
        "colab_type": "text"
      },
      "source": [
        "## add the start <BOS>, end <EOS>, and the padding, to the dictionary and to the tokenized lines\n",
        "\n",
        "save the dictionary that map the string to index token, and reverse map (index to string). We will need it later."
      ]
    },
    {
      "cell_type": "code",
      "metadata": {
        "id": "yyi9ycChM3la",
        "colab_type": "code",
        "colab": {}
      },
      "source": [
        "line2idx['<BOS>'] = 11\n",
        "idx2line[11] = '<BOS>'\n",
        "\n",
        "line2idx['<EOS>'] = 12\n",
        "idx2line[12] = '<EOS>'\n",
        "\n",
        "line2idx['<PAD>'] = 13\n",
        "idx2line[13] = '<PAD>'"
      ],
      "execution_count": 0,
      "outputs": []
    },
    {
      "cell_type": "code",
      "metadata": {
        "id": "6ZN8gbAtNTYS",
        "colab_type": "code",
        "colab": {}
      },
      "source": [
        "word2idx['<BOS>'] = 17\n",
        "idx2word[17] = '<BOS>'\n",
        "\n",
        "word2idx['<EOS>'] = 18\n",
        "idx2word[18] = '<EOS>'\n",
        "\n",
        "word2idx['<PAD>'] = 19\n",
        "idx2word[19] = '<PAD>'"
      ],
      "execution_count": 0,
      "outputs": []
    },
    {
      "cell_type": "code",
      "metadata": {
        "id": "xHxZmWFSN6tN",
        "colab_type": "code",
        "colab": {}
      },
      "source": [
        "with open('word2idx.json', 'w') as fp:\n",
        "    json.dump(word2idx, fp)\n",
        "\n",
        "with open('idx2word.json', 'w') as fq:\n",
        "    json.dump(idx2word, fq)\n",
        "\n",
        "with open('line2idx.json', 'w') as fr:\n",
        "    json.dump(line2idx, fr)\n",
        "\n",
        "with open('idx2line.json', 'w') as fs:\n",
        "    json.dump(idx2line, fs)"
      ],
      "execution_count": 0,
      "outputs": []
    },
    {
      "cell_type": "markdown",
      "metadata": {
        "id": "l3Vx3vQFOmX6",
        "colab_type": "text"
      },
      "source": [
        "Figure out the max length for the line version and for the word version\n",
        "\n",
        "the line version\n",
        "\n",
        "max = 45 + 2 for the start and ending\n",
        "\n",
        "the word version\n",
        "\n",
        "max = 175 + 2 for the start and ending"
      ]
    },
    {
      "cell_type": "code",
      "metadata": {
        "id": "L_P-6iOcQASO",
        "colab_type": "code",
        "colab": {}
      },
      "source": [
        "padded_tokenized_line = []\n",
        "for i in list_tokenize_line:\n",
        "  new_line = [11] + i + [12] + [13]*(47-(len(i) + 2))\n",
        "  padded_tokenized_line.append(new_line)"
      ],
      "execution_count": 0,
      "outputs": []
    },
    {
      "cell_type": "code",
      "metadata": {
        "id": "JIN1PrIVSVn4",
        "colab_type": "code",
        "outputId": "efab6424-3373-4388-ca27-5d54c28f22e9",
        "colab": {
          "base_uri": "https://localhost:8080/",
          "height": 33
        }
      },
      "source": [
        "len(padded_tokenized_line[1000])"
      ],
      "execution_count": 0,
      "outputs": [
        {
          "output_type": "execute_result",
          "data": {
            "text/plain": [
              "47"
            ]
          },
          "metadata": {
            "tags": []
          },
          "execution_count": 190
        }
      ]
    },
    {
      "cell_type": "code",
      "metadata": {
        "id": "G1Aq0Cn-SgyS",
        "colab_type": "code",
        "colab": {}
      },
      "source": [
        "padded_tokenized_word = []\n",
        "for i in list_tokenize_word:\n",
        "  new_word = [17] + i + [18] + [19]*(177-(len(i) + 2))\n",
        "  padded_tokenized_word.append(new_word)"
      ],
      "execution_count": 0,
      "outputs": []
    },
    {
      "cell_type": "code",
      "metadata": {
        "id": "6xFAejyASf3P",
        "colab_type": "code",
        "outputId": "3b5859ec-28fa-4afe-a1a3-e09dd3398078",
        "colab": {
          "base_uri": "https://localhost:8080/",
          "height": 33
        }
      },
      "source": [
        "len(padded_tokenized_word)"
      ],
      "execution_count": 0,
      "outputs": [
        {
          "output_type": "execute_result",
          "data": {
            "text/plain": [
              "1699"
            ]
          },
          "metadata": {
            "tags": []
          },
          "execution_count": 193
        }
      ]
    },
    {
      "cell_type": "code",
      "metadata": {
        "id": "EQOzdxb-SevD",
        "colab_type": "code",
        "colab": {}
      },
      "source": [
        "df['tokenized_line'] = padded_tokenized_line"
      ],
      "execution_count": 0,
      "outputs": []
    },
    {
      "cell_type": "code",
      "metadata": {
        "id": "I8JzBwz3TFaR",
        "colab_type": "code",
        "colab": {}
      },
      "source": [
        "df['tokenized_word'] = padded_tokenized_word"
      ],
      "execution_count": 0,
      "outputs": []
    },
    {
      "cell_type": "code",
      "metadata": {
        "id": "fIMUZDlVTKOP",
        "colab_type": "code",
        "outputId": "fdd0880c-89e1-4a3c-9fef-dd9d9876e1af",
        "colab": {
          "base_uri": "https://localhost:8080/",
          "height": 572
        }
      },
      "source": [
        "df"
      ],
      "execution_count": 0,
      "outputs": [
        {
          "output_type": "execute_result",
          "data": {
            "text/html": [
              "<div>\n",
              "<style scoped>\n",
              "    .dataframe tbody tr th:only-of-type {\n",
              "        vertical-align: middle;\n",
              "    }\n",
              "\n",
              "    .dataframe tbody tr th {\n",
              "        vertical-align: top;\n",
              "    }\n",
              "\n",
              "    .dataframe thead th {\n",
              "        text-align: right;\n",
              "    }\n",
              "</style>\n",
              "<table border=\"1\" class=\"dataframe\">\n",
              "  <thead>\n",
              "    <tr style=\"text-align: right;\">\n",
              "      <th></th>\n",
              "      <th>gui</th>\n",
              "      <th>png</th>\n",
              "      <th>tokenized_line</th>\n",
              "      <th>tokenized_word</th>\n",
              "    </tr>\n",
              "  </thead>\n",
              "  <tbody>\n",
              "    <tr>\n",
              "      <th>0</th>\n",
              "      <td>data/00150311-A7AE-4804-8B7D-9273687B4FC0.gui</td>\n",
              "      <td>data/00150311-A7AE-4804-8B7D-9273687B4FC0.png</td>\n",
              "      <td>[11, 5, 2, 10, 7, 8, 9, 10, 10, 7, 4, 9, 10, 4...</td>\n",
              "      <td>[17, 7, 15, 5, 4, 8, 3, 1, 4, 8, 3, 1, 4, 8, 3...</td>\n",
              "    </tr>\n",
              "    <tr>\n",
              "      <th>1</th>\n",
              "      <td>data/00190F39-0DE9-47EB-B0C2-856FDD3ACE62.gui</td>\n",
              "      <td>data/00190F39-0DE9-47EB-B0C2-856FDD3ACE62.png</td>\n",
              "      <td>[11, 5, 1, 10, 7, 6, 9, 10, 6, 9, 10, 6, 9, 10...</td>\n",
              "      <td>[17, 7, 15, 5, 4, 8, 3, 1, 4, 8, 3, 1, 4, 8, 1...</td>\n",
              "    </tr>\n",
              "    <tr>\n",
              "      <th>2</th>\n",
              "      <td>data/00779BBE-DD64-4909-9909-24F5C8044A7B.gui</td>\n",
              "      <td>data/00779BBE-DD64-4909-9909-24F5C8044A7B.png</td>\n",
              "      <td>[11, 5, 2, 10, 7, 8, 9, 10, 10, 7, 6, 9, 10, 6...</td>\n",
              "      <td>[17, 7, 15, 5, 4, 8, 3, 1, 4, 8, 3, 1, 4, 8, 3...</td>\n",
              "    </tr>\n",
              "    <tr>\n",
              "      <th>3</th>\n",
              "      <td>data/011CEB4E-C603-4359-AEA8-D3112A97E9C5.gui</td>\n",
              "      <td>data/011CEB4E-C603-4359-AEA8-D3112A97E9C5.png</td>\n",
              "      <td>[11, 5, 3, 10, 7, 4, 9, 10, 4, 9, 10, 10, 7, 6...</td>\n",
              "      <td>[17, 7, 15, 5, 4, 8, 3, 1, 4, 8, 3, 1, 4, 8, 3...</td>\n",
              "    </tr>\n",
              "    <tr>\n",
              "      <th>4</th>\n",
              "      <td>data/011D9C15-AF65-4660-B7C9-ECA8676185FE.gui</td>\n",
              "      <td>data/011D9C15-AF65-4660-B7C9-ECA8676185FE.png</td>\n",
              "      <td>[11, 5, 2, 10, 7, 6, 9, 10, 6, 9, 10, 6, 9, 10...</td>\n",
              "      <td>[17, 7, 15, 5, 4, 8, 3, 1, 4, 8, 3, 1, 4, 8, 3...</td>\n",
              "    </tr>\n",
              "    <tr>\n",
              "      <th>...</th>\n",
              "      <td>...</td>\n",
              "      <td>...</td>\n",
              "      <td>...</td>\n",
              "      <td>...</td>\n",
              "    </tr>\n",
              "    <tr>\n",
              "      <th>1694</th>\n",
              "      <td>data/FDF12CF5-A344-4573-A239-78AE47DBEE78.gui</td>\n",
              "      <td>data/FDF12CF5-A344-4573-A239-78AE47DBEE78.png</td>\n",
              "      <td>[11, 5, 2, 10, 7, 4, 9, 10, 4, 9, 10, 10, 7, 8...</td>\n",
              "      <td>[17, 7, 15, 5, 4, 8, 3, 1, 4, 8, 3, 1, 4, 8, 3...</td>\n",
              "    </tr>\n",
              "    <tr>\n",
              "      <th>1695</th>\n",
              "      <td>data/FDF4126C-C97E-43F0-9624-2AFC2D6BAD69.gui</td>\n",
              "      <td>data/FDF4126C-C97E-43F0-9624-2AFC2D6BAD69.png</td>\n",
              "      <td>[11, 5, 3, 10, 7, 8, 9, 10, 10, 7, 4, 9, 10, 4...</td>\n",
              "      <td>[17, 7, 15, 5, 4, 8, 3, 1, 4, 8, 3, 1, 4, 8, 3...</td>\n",
              "    </tr>\n",
              "    <tr>\n",
              "      <th>1696</th>\n",
              "      <td>data/FE835309-7DF4-4141-B6D1-F0141AC1DBFD.gui</td>\n",
              "      <td>data/FE835309-7DF4-4141-B6D1-F0141AC1DBFD.png</td>\n",
              "      <td>[11, 5, 1, 10, 7, 4, 9, 10, 4, 9, 10, 10, 7, 8...</td>\n",
              "      <td>[17, 7, 15, 5, 4, 8, 3, 1, 4, 8, 3, 1, 4, 8, 1...</td>\n",
              "    </tr>\n",
              "    <tr>\n",
              "      <th>1697</th>\n",
              "      <td>data/FECC1897-8B91-426B-96F3-29DA91E30721.gui</td>\n",
              "      <td>data/FECC1897-8B91-426B-96F3-29DA91E30721.png</td>\n",
              "      <td>[11, 5, 1, 10, 7, 4, 9, 10, 4, 9, 10, 10, 7, 6...</td>\n",
              "      <td>[17, 7, 15, 5, 4, 8, 3, 1, 4, 8, 3, 1, 4, 8, 1...</td>\n",
              "    </tr>\n",
              "    <tr>\n",
              "      <th>1698</th>\n",
              "      <td>data/FEF248A4-868E-4A6C-94D6-9B38A67974F0.gui</td>\n",
              "      <td>data/FEF248A4-868E-4A6C-94D6-9B38A67974F0.png</td>\n",
              "      <td>[11, 5, 2, 10, 7, 6, 9, 10, 6, 9, 10, 6, 9, 10...</td>\n",
              "      <td>[17, 7, 15, 5, 4, 8, 3, 1, 4, 8, 3, 1, 4, 8, 3...</td>\n",
              "    </tr>\n",
              "  </tbody>\n",
              "</table>\n",
              "<p>1699 rows × 4 columns</p>\n",
              "</div>"
            ],
            "text/plain": [
              "                                                gui  ...                                     tokenized_word\n",
              "0     data/00150311-A7AE-4804-8B7D-9273687B4FC0.gui  ...  [17, 7, 15, 5, 4, 8, 3, 1, 4, 8, 3, 1, 4, 8, 3...\n",
              "1     data/00190F39-0DE9-47EB-B0C2-856FDD3ACE62.gui  ...  [17, 7, 15, 5, 4, 8, 3, 1, 4, 8, 3, 1, 4, 8, 1...\n",
              "2     data/00779BBE-DD64-4909-9909-24F5C8044A7B.gui  ...  [17, 7, 15, 5, 4, 8, 3, 1, 4, 8, 3, 1, 4, 8, 3...\n",
              "3     data/011CEB4E-C603-4359-AEA8-D3112A97E9C5.gui  ...  [17, 7, 15, 5, 4, 8, 3, 1, 4, 8, 3, 1, 4, 8, 3...\n",
              "4     data/011D9C15-AF65-4660-B7C9-ECA8676185FE.gui  ...  [17, 7, 15, 5, 4, 8, 3, 1, 4, 8, 3, 1, 4, 8, 3...\n",
              "...                                             ...  ...                                                ...\n",
              "1694  data/FDF12CF5-A344-4573-A239-78AE47DBEE78.gui  ...  [17, 7, 15, 5, 4, 8, 3, 1, 4, 8, 3, 1, 4, 8, 3...\n",
              "1695  data/FDF4126C-C97E-43F0-9624-2AFC2D6BAD69.gui  ...  [17, 7, 15, 5, 4, 8, 3, 1, 4, 8, 3, 1, 4, 8, 3...\n",
              "1696  data/FE835309-7DF4-4141-B6D1-F0141AC1DBFD.gui  ...  [17, 7, 15, 5, 4, 8, 3, 1, 4, 8, 3, 1, 4, 8, 1...\n",
              "1697  data/FECC1897-8B91-426B-96F3-29DA91E30721.gui  ...  [17, 7, 15, 5, 4, 8, 3, 1, 4, 8, 3, 1, 4, 8, 1...\n",
              "1698  data/FEF248A4-868E-4A6C-94D6-9B38A67974F0.gui  ...  [17, 7, 15, 5, 4, 8, 3, 1, 4, 8, 3, 1, 4, 8, 3...\n",
              "\n",
              "[1699 rows x 4 columns]"
            ]
          },
          "metadata": {
            "tags": []
          },
          "execution_count": 196
        }
      ]
    },
    {
      "cell_type": "code",
      "metadata": {
        "id": "4pBcLteyTKpa",
        "colab_type": "code",
        "colab": {}
      },
      "source": [
        "df.to_csv('all_PADDED_tokenized_data_May23_2020.csv')"
      ],
      "execution_count": 0,
      "outputs": []
    },
    {
      "cell_type": "markdown",
      "metadata": {
        "id": "fTnnHOId9uqo",
        "colab_type": "text"
      },
      "source": [
        "# 3 pre-processing the images\n",
        "\n",
        "We will use the pre-trained resnet CNN as an encoder. The model was trained on imagenet dataset. We will have to pre-process the image using the normalization values that is used for the imagenet training. \n",
        "\n",
        "The image will also be resized to 224x224x3 for height, width, and color channels."
      ]
    },
    {
      "cell_type": "code",
      "metadata": {
        "id": "bmGeMM9G-WUp",
        "colab_type": "code",
        "colab": {}
      },
      "source": [
        "import torch\n",
        "import torch.nn as nn\n",
        "import torchvision\n",
        "from ast import literal_eval\n",
        "from PIL import Image\n",
        "import matplotlib.pyplot as plt\n",
        "from torchvision import transforms\n",
        "import matplotlib.pyplot as plt\n",
        "from torch.utils.data import TensorDataset"
      ],
      "execution_count": 0,
      "outputs": []
    },
    {
      "cell_type": "code",
      "metadata": {
        "id": "THmXEeh2924_",
        "colab_type": "code",
        "colab": {}
      },
      "source": [
        "preprocess = transforms.Compose([\n",
        "    transforms.Resize((224,224)),\n",
        "    transforms.ToTensor(),\n",
        "    transforms.Normalize(mean=[0.485, 0.456, 0.406], std=[0.229, 0.224, 0.225]),])"
      ],
      "execution_count": 0,
      "outputs": []
    },
    {
      "cell_type": "markdown",
      "metadata": {
        "id": "ldAuePfQ93Ws",
        "colab_type": "text"
      },
      "source": [
        "# 4 build the training and validation dataset\n",
        "\n",
        "Since we have 1699 samples, we will split first 1500 images as the training, and the rest is for validation."
      ]
    },
    {
      "cell_type": "code",
      "metadata": {
        "id": "EAVpPfYt93LC",
        "colab_type": "code",
        "colab": {}
      },
      "source": [
        "df = pd.read_csv('all_PADDED_tokenized_data_May23_2020.csv',index_col=0).reset_index()"
      ],
      "execution_count": 0,
      "outputs": []
    },
    {
      "cell_type": "code",
      "metadata": {
        "id": "ibnbbI_FBtDx",
        "colab_type": "code",
        "colab": {}
      },
      "source": [
        "df['tokenized_line'] = df['tokenized_line'].apply(lambda x: literal_eval(x))"
      ],
      "execution_count": 0,
      "outputs": []
    },
    {
      "cell_type": "code",
      "metadata": {
        "id": "7tTIhEEb-nO8",
        "colab_type": "code",
        "colab": {}
      },
      "source": [
        "df_train = df[:1500]\n",
        "df_val = df[1500:]"
      ],
      "execution_count": 0,
      "outputs": []
    },
    {
      "cell_type": "code",
      "metadata": {
        "id": "4NCaOiMV-4Qg",
        "colab_type": "code",
        "colab": {}
      },
      "source": [
        "def read_image(frame):\n",
        "  tensor_image = torch.zeros(len(frame),3,224,224)\n",
        "  start = timeit.default_timer()\n",
        "  for count,path in enumerate(frame['png']):\n",
        "    img = Image.open(path)\n",
        "    tensor_image[count] = preprocess(img)\n",
        "    if count % 100 == 0:\n",
        "      stop = timeit.default_timer()\n",
        "      print(count,' img read takes ', stop - start,' sec')\n",
        "      start = timeit.default_timer()\n",
        "  return tensor_image\n",
        "\n",
        "def read_token(frame):\n",
        "  tensor_token = torch.zeros(len(frame),len(frame['tokenized_line'][0]),dtype=torch.long)\n",
        "  for count,item in enumerate(frame['tokenized_line']):\n",
        "    tensor_token[count] = torch.tensor(item,dtype=torch.long)\n",
        "  return tensor_token\n",
        "\n",
        "def read_caption_len(frame):\n",
        "  tensor_caption_len = torch.zeros(len(frame),1,dtype=torch.long)\n",
        "  for count,item in enumerate(frame['tokenized_line']):\n",
        "    tensor_caption_len[count] = torch.tensor(item.index(12) + 1,dtype=torch.long)\n",
        "  return tensor_caption_len"
      ],
      "execution_count": 0,
      "outputs": []
    },
    {
      "cell_type": "code",
      "metadata": {
        "id": "_2_7W-8O98VF",
        "colab_type": "code",
        "outputId": "b1901f68-11db-45cf-817a-edb4b44a4946",
        "colab": {
          "base_uri": "https://localhost:8080/",
          "height": 268
        }
      },
      "source": [
        "train_caption_len = read_caption_len(df_train)\n",
        "train_tokenized_line = read_token(df_train)\n",
        "train_img = read_image(df_train)"
      ],
      "execution_count": 0,
      "outputs": [
        {
          "output_type": "stream",
          "text": [
            "0  img read takes  0.8155710759999977  sec\n",
            "100  img read takes  67.709783816  sec\n",
            "200  img read takes  70.27576345599999  sec\n",
            "300  img read takes  68.70249990500002  sec\n",
            "400  img read takes  67.991074121  sec\n",
            "500  img read takes  69.20323780900003  sec\n",
            "600  img read takes  65.66472487399994  sec\n",
            "700  img read takes  77.56558381100001  sec\n",
            "800  img read takes  66.11869912999998  sec\n",
            "900  img read takes  69.55573325199998  sec\n",
            "1000  img read takes  67.46080332700001  sec\n",
            "1100  img read takes  65.68230352800003  sec\n",
            "1200  img read takes  67.58827680400009  sec\n",
            "1300  img read takes  67.1310150249999  sec\n",
            "1400  img read takes  66.10796358099992  sec\n"
          ],
          "name": "stdout"
        }
      ]
    },
    {
      "cell_type": "markdown",
      "metadata": {
        "id": "-5fcxWh3_7oZ",
        "colab_type": "text"
      },
      "source": [
        "show one image as an example"
      ]
    },
    {
      "cell_type": "code",
      "metadata": {
        "id": "kQMjruTj98hl",
        "colab_type": "code",
        "outputId": "616a7225-3f17-4f19-dc96-d53238e2cc14",
        "colab": {
          "base_uri": "https://localhost:8080/",
          "height": 286
        }
      },
      "source": [
        "plt.imshow(train_img[600].permute(1,2,0).numpy()[:,:,1])"
      ],
      "execution_count": 0,
      "outputs": [
        {
          "output_type": "execute_result",
          "data": {
            "text/plain": [
              "<matplotlib.image.AxesImage at 0x7f93025b89e8>"
            ]
          },
          "metadata": {
            "tags": []
          },
          "execution_count": 19
        },
        {
          "output_type": "display_data",
          "data": {
            "image/png": "[encoded data removed]",
            "text/plain": [
              "<Figure size 432x288 with 1 Axes>"
            ]
          },
          "metadata": {
            "tags": [],
            "needs_background": "light"
          }
        }
      ]
    },
    {
      "cell_type": "code",
      "metadata": {
        "id": "QtILkJN2AFSG",
        "colab_type": "code",
        "colab": {}
      },
      "source": [
        "train_dataset = TensorDataset(train_img,train_tokenized_line,train_caption_len)\n",
        "torch.save(train_dataset, 'torch_trainFile_Jun07_2020.pt')"
      ],
      "execution_count": 0,
      "outputs": []
    },
    {
      "cell_type": "markdown",
      "metadata": {
        "id": "gpuELUoAAMis",
        "colab_type": "text"
      },
      "source": [
        "### do the same with the validation dataset"
      ]
    },
    {
      "cell_type": "code",
      "metadata": {
        "id": "y2lYLPoKF1th",
        "colab_type": "code",
        "colab": {}
      },
      "source": [
        "df_val = df_val.reset_index()"
      ],
      "execution_count": 0,
      "outputs": []
    },
    {
      "cell_type": "code",
      "metadata": {
        "id": "9BU2mcplAAZE",
        "colab_type": "code",
        "outputId": "4de84fb7-9ab5-4d8c-be7e-b8668345be07",
        "colab": {
          "base_uri": "https://localhost:8080/",
          "height": 50
        }
      },
      "source": [
        "val_caption_len = read_caption_len(df_val)\n",
        "val_tokenized_line = read_token(df_val)\n",
        "val_img = read_image(df_val)"
      ],
      "execution_count": 0,
      "outputs": [
        {
          "output_type": "stream",
          "text": [
            "0  img read takes  0.60038739599986  sec\n",
            "100  img read takes  65.19539972400003  sec\n"
          ],
          "name": "stdout"
        }
      ]
    },
    {
      "cell_type": "code",
      "metadata": {
        "id": "GiVSfGfcALjZ",
        "colab_type": "code",
        "colab": {}
      },
      "source": [
        "val_dataset = TensorDataset(val_img,val_tokenized_line,val_caption_len)"
      ],
      "execution_count": 0,
      "outputs": []
    },
    {
      "cell_type": "code",
      "metadata": {
        "id": "h2NF1ftyA4Kl",
        "colab_type": "code",
        "colab": {}
      },
      "source": [
        "torch.save(val_dataset, 'torch_valFile_Jun07_2020.pt')"
      ],
      "execution_count": 0,
      "outputs": []
    }
  ]
}